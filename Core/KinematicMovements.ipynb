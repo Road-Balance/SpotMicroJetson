{
 "cells": [
  {
   "cell_type": "markdown",
   "metadata": {},
   "source": [
    "# Solving first kinematic Movements\n",
    "\n",
    "We can now control the Robots Legs using XYZ-Coordinates. \n",
    "The next small step will be to define some kind of kinematic motion segments.\n",
    "\n",
    "First goal is to:\n",
    "1. set the robo-dog in a \"wait/sleep\"-position, \n",
    "2. then let it stand up keeping the same feet-position\n",
    "3. and then put the feet on new/more wider and stable positions\n",
    "\n"
   ]
  },
  {
   "cell_type": "code",
   "execution_count": 2,
   "metadata": {},
   "outputs": [],
   "source": [
    "%matplotlib inline\n",
    "\n",
    "import matplotlib\n",
    "import numpy as np\n",
    "import matplotlib.pyplot as plt\n",
    "import pybullet as p\n",
    "import pybullet_data\n",
    "p.connect(p.DIRECT)\n",
    "p.setAdditionalSearchPath(pybullet_data.getDataPath())\n",
    "\n"
   ]
  },
  {
   "cell_type": "code",
   "execution_count": 5,
   "metadata": {},
   "outputs": [],
   "source": [
    "\n",
    "p.setGravity(0,0,-10)\n",
    "precision=5\n",
    "for i in range (10):\n",
    "#    pos,orn = p.getBasePositionAndOrientation(r2d2)\n",
    "#    posmsg='pos = {posx:.{prec}f},{posy:.{prec}f},{posz:.{prec}f}   '.format(posx=pos[0],posy=pos[1],posz=pos[2], prec=precision)\n",
    "#    print(posmsg)\n",
    "    p.stepSimulation()\n",
    "p.stepSimulation()\n",
    "camTargetPos = [0,0,0]\n",
    "cameraUp = [0,0,1]\n",
    "cameraPos = [1,1,1]\n",
    "\n",
    "pitch = -10.0\n",
    "yaw = 60\n",
    "roll=0\n",
    "upAxisIndex = 2\n",
    "camDistance = 4\n",
    "pixelWidth = 320\n",
    "pixelHeight = 200\n",
    "nearPlane = 0.01\n",
    "farPlane = 100\n",
    "fov = 60\n",
    "viewMatrix = p.computeViewMatrixFromYawPitchRoll(camTargetPos, camDistance, yaw, pitch, roll, upAxisIndex)\n",
    "aspect = pixelWidth / pixelHeight;\n",
    "projectionMatrix = p.computeProjectionMatrixFOV(fov, aspect, nearPlane, farPlane);\n",
    "img_arr = p.getCameraImage(pixelWidth, pixelHeight, viewMatrix,projectionMatrix, shadow=1,lightDirection=[1,1,1])"
   ]
  },
  {
   "cell_type": "code",
   "execution_count": 6,
   "metadata": {},
   "outputs": [
    {
     "data": {
      "image/png": "[encoded data removed]",
      "text/plain": [
       "<matplotlib.figure.Figure at 0x7f5f8c717a58>"
      ]
     },
     "metadata": {
      "needs_background": "light"
     },
     "output_type": "display_data"
    }
   ],
   "source": [
    "w=img_arr[0] #width of the image, in pixels\n",
    "h=img_arr[1] #height of the image, in pixels\n",
    "rgb=img_arr[2] #color data RGB\n",
    "plt.imshow(rgb,interpolation='none')\n",
    "plt.draw()\n",
    "plt.show()"
   ]
  },
  {
   "cell_type": "code",
   "execution_count": null,
   "metadata": {},
   "outputs": [],
   "source": []
  },
  {
   "cell_type": "code",
   "execution_count": null,
   "metadata": {},
   "outputs": [],
   "source": []
  }
 ],
 "metadata": {
  "kernelspec": {
   "display_name": "Python 3",
   "language": "python",
   "name": "python3"
  },
  "language_info": {
   "codemirror_mode": {
    "name": "ipython",
    "version": 3
   },
   "file_extension": ".py",
   "mimetype": "text/x-python",
   "name": "python",
   "nbconvert_exporter": "python",
   "pygments_lexer": "ipython3",
   "version": "3.6.7"
  }
 },
 "nbformat": 4,
 "nbformat_minor": 2
}
